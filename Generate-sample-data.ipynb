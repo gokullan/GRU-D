{
 "cells": [
  {
   "cell_type": "code",
   "execution_count": 1,
   "metadata": {},
   "outputs": [],
   "source": [
    "from __future__ import absolute_import, division, print_function\n",
    "\n",
    "import numpy as np\n",
    "import os\n",
    "from sklearn import model_selection "
   ]
  },
  {
   "cell_type": "code",
   "execution_count": 2,
   "metadata": {},
   "outputs": [],
   "source": [
    "np.random.seed(42)"
   ]
  },
  {
   "cell_type": "code",
   "execution_count": 3,
   "metadata": {},
   "outputs": [],
   "source": [
    "n_sample = 100\n",
    "n_dim = 7\n",
    "n_max_timestamp = 17\n",
    "n_class = 3"
   ]
  },
  {
   "cell_type": "code",
   "execution_count": 4,
   "metadata": {},
   "outputs": [
    {
     "name": "stdout",
     "output_type": "stream",
     "text": [
      "(100, 3)\n"
     ]
    }
   ],
   "source": [
    "input = np.empty(shape=(n_sample), dtype=object)\n",
    "masking =  np.empty(shape=(n_sample), dtype=object)\n",
    "timestamp = np.empty(shape=(n_sample), dtype=object)\n",
    "label_taskname = np.empty(shape=(n_sample, n_class), dtype=int)\n",
    "print(label_taskname.shape)"
   ]
  },
  {
   "cell_type": "code",
   "execution_count": 5,
   "metadata": {},
   "outputs": [
    {
     "name": "stdout",
     "output_type": "stream",
     "text": [
      "(100, 3)\n"
     ]
    }
   ],
   "source": [
    "\n",
    "label_taskname = np.stack((\n",
    "    np.random.binomial(1, 0.3, size=(n_sample)), \n",
    "    np.random.binomial(1, 0.6, size=(n_sample)), \n",
    "    np.random.binomial(1, 0.2, size=(n_sample))\n",
    "), axis=-1)\n",
    "print(label_taskname.shape)"
   ]
  },
  {
   "cell_type": "code",
   "execution_count": 6,
   "metadata": {},
   "outputs": [
    {
     "name": "stdout",
     "output_type": "stream",
     "text": [
      "(100,)\n",
      "(8,)\n"
     ]
    }
   ],
   "source": [
    "for i in range(n_sample):\n",
    "    len_t_i = np.random.randint(5, 17)\n",
    "    timestamp_i = np.random.random(size=(len_t_i)) * 10 + 1\n",
    "    timestamp_i = np.cumsum(timestamp_i) - timestamp_i[0]\n",
    "    timestamp[i] = timestamp_i\n",
    "print(timestamp.shape)\n",
    "print(timestamp[0].shape)"
   ]
  },
  {
   "cell_type": "code",
   "execution_count": 7,
   "metadata": {},
   "outputs": [
    {
     "name": "stdout",
     "output_type": "stream",
     "text": [
      "(100,)\n",
      "(8, 7)\n"
     ]
    }
   ],
   "source": [
    "for i in range(n_sample):\n",
    "    start = np.random.random(size=n_dim)*np.pi*2\n",
    "    input_i = np.zeros(shape=(n_dim, len(timestamp[i])), dtype=float)\n",
    "    if label_taskname[i][0]:\n",
    "        input_i += np.cos(start[:, np.newaxis] + timestamp[i][np.newaxis, :])\n",
    "    if label_taskname[i][1]:\n",
    "        input_i += np.cos(2 * (start[:, np.newaxis] + timestamp[i][np.newaxis, :])) + 1\n",
    "    if label_taskname[i][2]:\n",
    "        input_i += np.cos(5 * (start[:, np.newaxis] + timestamp[i][np.newaxis, :])) + 2\n",
    "    input[i] = input_i.T\n",
    "\n",
    "print(input.shape)\n",
    "print(input[0].shape)"
   ]
  },
  {
   "cell_type": "code",
   "execution_count": 8,
   "metadata": {},
   "outputs": [
    {
     "name": "stdout",
     "output_type": "stream",
     "text": [
      "(100,)\n",
      "(8, 7)\n",
      "[1 0 1 0 1 0 0]\n",
      "[0.32611525        nan 1.86661421        nan 1.98591935        nan\n",
      "        nan]\n"
     ]
    }
   ],
   "source": [
    "for i in range(n_sample):\n",
    "    masking_i = (np.random.random(size=(len(timestamp[i]), n_dim)) > 0.7).astype(int)\n",
    "    masking[i] = masking_i\n",
    "    input[i][masking_i == 0] = np.nan\n",
    "\n",
    "print(masking.shape)\n",
    "print(masking[0].shape)\n",
    "print(masking[0][0])\n",
    "print(input[0][0])"
   ]
  },
  {
   "cell_type": "code",
   "execution_count": 9,
   "metadata": {
    "tags": []
   },
   "outputs": [],
   "source": [
    "n_split = 5"
   ]
  },
  {
   "cell_type": "code",
   "execution_count": 10,
   "metadata": {},
   "outputs": [
    {
     "name": "stdout",
     "output_type": "stream",
     "text": [
      "[20 21 22 23 24 25 26 27 28 29 30 31 32 33 34 35 36 37 38 39]\n",
      "[40 41 42 43 44 45 46 47 48 49 50 51 52 53 54 55 56 57 58 59]\n",
      "[60 61 62 63 64 65 66 67 68 69 70 71 72 73 74 75 76 77 78 79]\n",
      "[80 81 82 83 84 85 86 87 88 89 90 91 92 93 94 95 96 97 98 99]\n",
      "[ 0  1  2  3  4  5  6  7  8  9 10 11 12 13 14 15 16 17 18 19]\n",
      "(60,) (20,) (20,)\n"
     ]
    }
   ],
   "source": [
    "fold_taskname = np.empty(shape=(n_split, 3), dtype=object)\n",
    "\n",
    "idx_all = sorted(range(100))\n",
    "for i_split, idx in enumerate(model_selection.KFold(5, shuffle=False).split(idx_all)):\n",
    "    fold_taskname[i_split][2] = idx[-1]  # indices for testing\n",
    "for i_split in range(n_split):\n",
    "    fold_taskname[i_split][1] = fold_taskname[(i_split + 1) % n_split][2] # indices for validation\n",
    "    print(fold_taskname[i_split][1])\n",
    "    fold_taskname[i_split][0] = np.asarray(sorted(set(idx_all).difference(fold_taskname[i_split][1]).difference(fold_taskname[i_split][2]))) # indices for training\n",
    "\n",
    "print(fold_taskname[0][0].shape, fold_taskname[0][1].shape, fold_taskname[0][2].shape)"
   ]
  },
  {
   "cell_type": "code",
   "execution_count": 11,
   "metadata": {},
   "outputs": [
    {
     "name": "stdout",
     "output_type": "stream",
     "text": [
      "[1.19445546 1.12043461 1.1152174  1.2170161  1.23047909 1.12230011\n",
      " 1.1178312 ]\n",
      "[1.28396076 1.23046311 1.21772513 1.31423306 1.34789895 1.36239225\n",
      " 1.3876464 ]\n"
     ]
    }
   ],
   "source": [
    "mean_taskname = np.zeros((n_split, 3, n_dim)) * np.nan\n",
    "std_taskname = np.zeros((n_split, 3, n_dim)) * np.nan\n",
    "for i_split in range(n_split):\n",
    "    x_tr = np.concatenate(input[fold_taskname[i_split][0]], axis=0)\n",
    "    mean_taskname[i_split][0] = np.nanmean(x_tr, axis=0)  # mean for every row\n",
    "    std_taskname[i_split][0] = np.nanstd(x_tr, axis=0)\n",
    "    \n",
    "print(mean_taskname[0][0])\n",
    "print(std_taskname[0][0])"
   ]
  },
  {
   "cell_type": "code",
   "execution_count": 12,
   "metadata": {},
   "outputs": [],
   "source": [
    "os.makedirs(os.path.join('.', 'data', 'sample'), exist_ok=True)\n",
    "np.savez(os.path.join('.', 'data', 'sample', 'data.npz'), input=input, masking=masking, timestamp=timestamp, label_taskname=label_taskname)\n",
    "np.savez(os.path.join('.', 'data', 'sample', 'fold.npz'), fold_taskname=fold_taskname, mean_taskname=mean_taskname, std_taskname=std_taskname)"
   ]
  }
 ],
 "metadata": {
  "kernelspec": {
   "display_name": "Python 3",
   "language": "python",
   "name": "python3"
  },
  "language_info": {
   "codemirror_mode": {
    "name": "ipython",
    "version": 3
   },
   "file_extension": ".py",
   "mimetype": "text/x-python",
   "name": "python",
   "nbconvert_exporter": "python",
   "pygments_lexer": "ipython3",
   "version": "3.6.13"
  }
 },
 "nbformat": 4,
 "nbformat_minor": 4
}
