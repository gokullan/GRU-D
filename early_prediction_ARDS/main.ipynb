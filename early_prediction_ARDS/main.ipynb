{
 "cells": [
  {
   "cell_type": "code",
   "execution_count": 1,
   "metadata": {},
   "outputs": [],
   "source": [
    "import pickle\n",
    "import math\n",
    "import numpy as np\n",
    "import pandas as pd\n",
    "import matplotlib.pyplot as plt\n",
    "from sklearn.utils import shuffle\n",
    "from preprocess import Preprocess\n",
    "from samples import SampleMaker"
   ]
  },
  {
   "attachments": {},
   "cell_type": "markdown",
   "metadata": {},
   "source": [
    "## Data Cleaning"
   ]
  },
  {
   "cell_type": "code",
   "execution_count": 13,
   "metadata": {},
   "outputs": [
    {
     "name": "stdout",
     "output_type": "stream",
     "text": [
      "Selecting columns ...\n",
      "\n",
      "Removing outliers ...\n",
      "\n",
      "Grouping and ordering ...\n",
      "\n",
      "Filling null values ... \n",
      "\n"
     ]
    }
   ],
   "source": [
    "def display_box_plot(dataset, cols, exclude=[]):\n",
    "  n = len(cols)\n",
    "  rows = math.ceil(n / 3)\n",
    "  plot_count = 1\n",
    "  plt.figure(figsize=(30, 5 * rows))\n",
    "  for idx in range(n):\n",
    "    if cols[idx] in exclude:\n",
    "      continue\n",
    "    data = dataset[cols[idx]].dropna().values\n",
    "    plt.subplot(rows, 3, plot_count)\n",
    "    plt.boxplot(data)\n",
    "    plt.title(cols[idx], fontsize=20)\n",
    "    plot_count += 1\n",
    "  plt.tight_layout()\n",
    "  plt.show()\n",
    "\n",
    "def preprocess():\n",
    "    # load dataset\n",
    "    fileObj = open('dataset.obj', 'rb')\n",
    "    dataset = pickle.load(fileObj)\n",
    "    fileObj.close()\n",
    "\n",
    "    # `temperature` should not be categorical => change to numeric type\n",
    "    dataset['temperature'] = pd.to_numeric(dataset['temperature'])\n",
    "\n",
    "    preprocessor = Preprocess(dataset)\n",
    "    cols_to_select = [\n",
    "        'tidal_volume_observed', 'pao2fio2ratio', 'platelet', 'rbc', 'wbc',\n",
    "        'temperature', 'glucose', 'age', 'vaso_amount', 'minute_volume',\n",
    "        'heart_rate', 'mbp', 'tidal_volume_set', 'lactate', 'vaso_rate',\n",
    "        'resp_rate', 'potassium', 'calcium', 'pco2', 'ph', 'peep',\n",
    "        'charttime', 'hadm_id', 'stay_id',\n",
    "    ]\n",
    "    print(\"Selecting columns ...\\n\")\n",
    "    preprocessor.select_cols(cols_to_select)\n",
    "    \n",
    "    # remove outliers\n",
    "    # before\n",
    "    # display_box_plot(preprocessor.dataset, ['minute_volume'])\n",
    "    print(\"Removing outliers ...\\n\")\n",
    "    for col in preprocessor.dataset._get_numeric_data().columns:\n",
    "        if col not in ['hadm_id', 'stay_id', 'age']:\n",
    "            preprocessor.remove_outliers(col)\n",
    "    # after\n",
    "    # display_box_plot(preprocessor.dataset, ['minute_volume'])\n",
    "\n",
    "    # group and order\n",
    "    print(\"Grouping and ordering ...\\n\")\n",
    "    grouped = preprocessor.group()\n",
    "\n",
    "    # fill null values for `peep` and `pao2fio2ratio`\n",
    "    print(\"Filling null values ... \\n\")\n",
    "    preprocessor.fill_null(grouped)\n",
    "\n",
    "    return grouped\n",
    "\n",
    "grouped = preprocess()"
   ]
  },
  {
   "attachments": {},
   "cell_type": "markdown",
   "metadata": {},
   "source": [
    "## Creating samples"
   ]
  },
  {
   "cell_type": "code",
   "execution_count": 3,
   "metadata": {},
   "outputs": [
    {
     "name": "stdout",
     "output_type": "stream",
     "text": [
      "Making samples ...\n",
      "\n",
      "Positive Cases: 377, Negative Cases: 213\n",
      "No. of positive samples: 1511\n",
      "No. of negative samples: 2318\n"
     ]
    }
   ],
   "source": [
    "# make samples\n",
    "def make_samples(p, l):\n",
    "    sample_maker = SampleMaker(grouped)\n",
    "    print(\"Making samples ...\\n\")\n",
    "    positives, negatives, pos_timestamps, neg_timestamps = sample_maker.make_samples(p, min_size=l)\n",
    "    print(f\"Positive Cases: {len(positives)}, Negative Cases: {len(negatives)}\")\n",
    "\n",
    "    lookback = 3\n",
    "    positive_rnn = sample_maker.make_rnn_samples(positives, lookback)\n",
    "    negative_rnn = sample_maker.make_rnn_samples(negatives, lookback)\n",
    "    pos_timestamps_rnn = sample_maker.make_rnn_samples(pos_timestamps, lookback)\n",
    "    neg_timestamps_rnn = sample_maker.make_rnn_samples(neg_timestamps, lookback)\n",
    "    print(\"No. of positive samples: {}\".format(len(positive_rnn)))\n",
    "    print(\"No. of negative samples: {}\".format(len(negative_rnn)))\n",
    "\n",
    "    return positive_rnn, negative_rnn, pos_timestamps_rnn, neg_timestamps_rnn\n",
    "\n",
    "with open('grouped.obj', 'rb') as fileObj:\n",
    "    grouped = pickle.load(fileObj)\n",
    "X_pos, X_neg, T_pos, T_neg = make_samples(12, 3)"
   ]
  },
  {
   "attachments": {},
   "cell_type": "markdown",
   "metadata": {},
   "source": [
    "## Resample data"
   ]
  },
  {
   "cell_type": "code",
   "execution_count": 4,
   "metadata": {},
   "outputs": [],
   "source": [
    "from sklearn.utils import resample, shuffle\n",
    "\n",
    "# assuming negative samples are more\n",
    "X_pos, T_pos = resample(\n",
    "    X_pos,\n",
    "    T_pos,\n",
    "    n_samples=len(X_neg)\n",
    ")\n",
    "\n",
    "X = np.concatenate([X_pos, X_neg], axis=0)\n",
    "y = np.array(\n",
    "    [1 for i in range(len(X_pos))] + [0 for i in range(len(X_neg))],\n",
    "    dtype=np.uint8\n",
    ")\n",
    "T = np.concatenate([T_pos, T_neg], axis=0)\n",
    "X, y, T = shuffle(X, y, T, random_state=42)"
   ]
  },
  {
   "attachments": {},
   "cell_type": "markdown",
   "metadata": {},
   "source": [
    "## Refactoring for GRU-D"
   ]
  },
  {
   "cell_type": "code",
   "execution_count": 5,
   "metadata": {},
   "outputs": [],
   "source": [
    "from refactor import Refactor\n",
    "\n",
    "refactorer = Refactor(X, y, T)\n",
    "input = X\n",
    "timestamp = refactorer.standardize_timestamps()\n",
    "masking = refactorer.get_masks()\n",
    "label_taskname = y"
   ]
  },
  {
   "cell_type": "code",
   "execution_count": 6,
   "metadata": {},
   "outputs": [],
   "source": [
    "import os\n",
    "np.savez(os.path.join('.', 'data.npz'), input=input, masking=masking, timestamp=timestamp, label_taskname=label_taskname)"
   ]
  }
 ],
 "metadata": {
  "kernelspec": {
   "display_name": "base",
   "language": "python",
   "name": "python3"
  },
  "language_info": {
   "codemirror_mode": {
    "name": "ipython",
    "version": 3
   },
   "file_extension": ".py",
   "mimetype": "text/x-python",
   "name": "python",
   "nbconvert_exporter": "python",
   "pygments_lexer": "ipython3",
   "version": "3.10.10"
  },
  "orig_nbformat": 4
 },
 "nbformat": 4,
 "nbformat_minor": 2
}
